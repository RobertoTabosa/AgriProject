{
 "cells": [
  {
   "cell_type": "markdown",
   "id": "aedf3a7b",
   "metadata": {},
   "source": [
    "# Scoping\n",
    "\n",
    "Problem/Opportunity\n",
    "With the growing decline in oat planting in Manitoba and Saskatchewan 1, \n",
    "a group of companies supplying oat grains needs to understand more \n",
    "precisely the best locations for crop oats and thus make better future investment decisions when production returns to normal.\n",
    "\n",
    "Solution\n",
    "Recommendation of best areas using K-means clustering for \n",
    "oat cultivation."
   ]
  },
  {
   "cell_type": "markdown",
   "id": "ae407cdb",
   "metadata": {},
   "source": [
    "##  ETL (Extract, Transform, Load)"
   ]
  },
  {
   "cell_type": "code",
   "execution_count": null,
   "id": "b68a48ca",
   "metadata": {},
   "outputs": [],
   "source": [
    "import pandas as pd\n",
    "import numpy as np\n",
    "import geopandas as gpd  # command to tape on anaconda prompt:conda install -c conda-forge geopandas\n",
    "import matplotlib.pyplot as plt\n",
    "import seaborn as sb\n",
    "import contextily as ctx\n",
    "import folium\n",
    "plt.rcParams['figure.figsize'] = [12, 8]"
   ]
  },
  {
   "cell_type": "markdown",
   "id": "292d97a4",
   "metadata": {},
   "source": [
    "## Yield"
   ]
  },
  {
   "cell_type": "code",
   "execution_count": null,
   "id": "71b6d79f",
   "metadata": {},
   "outputs": [],
   "source": [
    "df_sk=pd.read_csv('/Users/robertotabosa/Desktop/Stream3/rm-yields-data.csv')"
   ]
  },
  {
   "cell_type": "code",
   "execution_count": null,
   "id": "d1f1086b",
   "metadata": {},
   "outputs": [],
   "source": [
    "df_mb=pd.read_excel('/Users/robertotabosa/Desktop/Stream3/MMPP - Yield by Soil Type Browser.xlsx')"
   ]
  },
  {
   "cell_type": "markdown",
   "id": "b0a32db6",
   "metadata": {},
   "source": [
    "## Shapefiles"
   ]
  },
  {
   "cell_type": "code",
   "execution_count": null,
   "id": "de3079dc",
   "metadata": {},
   "outputs": [],
   "source": [
    "gdf_sk=gpd.read_file('/Users/robertotabosa/Desktop/Stream3/RuralMunicipality.shp') # command to tape on anaconda prompt:conda install -c conda-forge pyogrio"
   ]
  },
  {
   "cell_type": "code",
   "execution_count": null,
   "id": "0f3f042a",
   "metadata": {},
   "outputs": [],
   "source": [
    "gdf_mb=gpd.read_file('/Users/robertotabosa/Desktop/Stream3/MB_Municipal_Boundaries.shp')"
   ]
  },
  {
   "cell_type": "markdown",
   "id": "913d021b",
   "metadata": {},
   "source": [
    "## Understanding & Transforming"
   ]
  },
  {
   "cell_type": "code",
   "execution_count": null,
   "id": "2075896e",
   "metadata": {},
   "outputs": [],
   "source": [
    "# List of columns\n",
    "df_sk.columns"
   ]
  },
  {
   "cell_type": "code",
   "execution_count": null,
   "id": "dbec1ca3",
   "metadata": {},
   "outputs": [],
   "source": [
    "# List of columns\n",
    "df_mb.columns"
   ]
  },
  {
   "cell_type": "code",
   "execution_count": null,
   "id": "ee5b6f49",
   "metadata": {},
   "outputs": [],
   "source": [
    "# Info about columns\n",
    "df_sk.info()"
   ]
  },
  {
   "cell_type": "code",
   "execution_count": null,
   "id": "1b8ec59a",
   "metadata": {},
   "outputs": [],
   "source": [
    "# Info about columns\n",
    "df_mb.info()"
   ]
  },
  {
   "cell_type": "code",
   "execution_count": null,
   "id": "c0dfd29c",
   "metadata": {},
   "outputs": [],
   "source": [
    "# Table heads\n",
    "df_sk.head()"
   ]
  },
  {
   "cell_type": "code",
   "execution_count": null,
   "id": "c6ac2401",
   "metadata": {},
   "outputs": [],
   "source": [
    "# Table heads\n",
    "df_mb.head()"
   ]
  },
  {
   "cell_type": "code",
   "execution_count": null,
   "id": "fe024384",
   "metadata": {},
   "outputs": [],
   "source": [
    "df_mb['Yield/acre(Metric)']=df_mb['Yield/acre(Metric)'].str.replace(' Tonnes', '') # Replacing Tonnes\n",
    "df_mb['Yield/acre(Metric)']=df_mb['Yield/acre(Metric)'].replace('Tolerance', np.NaN) # Replacing Tolerance\n",
    "df_mb['Yield/acre(Metric)']=df_mb['Yield/acre(Metric)'].astype(float) # changing object to float data type\n",
    "df_mb['Risk Area / R.M.'] = df_mb['Risk Area / R.M.'].str.replace('RM OF ','')\n",
    "df_mb['Risk Area / R.M.'] = df_mb['Risk Area / R.M.'].str.replace('RM OF ','')\n",
    "df_mb['Risk Area / R.M.'] = df_mb['Risk Area / R.M.'].str.replace('MUNICIPALITY OF ','', regex=False) # not caps sensitive\\n\",\n",
    "df_mb['Risk Area / R.M.'] = df_mb['Risk Area / R.M.'].str.replace(' MUNICIPALITY','', regex=False) # not caps sensitive\\n\",\n",
    "df_mb['Risk Area / R.M.'] = df_mb['Risk Area / R.M.'].str.replace('CITY OF ','', regex=False) # not caps sensitive\""
   ]
  },
  {
   "cell_type": "code",
   "execution_count": null,
   "id": "43f632de",
   "metadata": {},
   "outputs": [],
   "source": [
    "df_mb_pivot=pd.pivot_table(df_mb.drop(columns=['Yield/acre(Metric).1', 'Yield/acre(Imperial)', 'Soil', 'Farms' ]),\n",
    "               index=['Risk Area / R.M.', 'Year'], columns='Crop', values='Yield/acre(Metric)')\\\n",
    "               .reset_index()"
   ]
  },
  {
   "cell_type": "code",
   "execution_count": null,
   "id": "61bec02e",
   "metadata": {},
   "outputs": [],
   "source": [
    "df_sk.columns"
   ]
  },
  {
   "cell_type": "code",
   "execution_count": null,
   "id": "75c4361b",
   "metadata": {},
   "outputs": [],
   "source": [
    "df_mb_pivot.columns"
   ]
  },
  {
   "cell_type": "code",
   "execution_count": null,
   "id": "c00c1372",
   "metadata": {},
   "outputs": [],
   "source": [
    "df_mb_clean=df_mb_pivot.rename(columns={\n",
    "    'Risk Area / R.M.': 'RM', \n",
    "    'ARGENTINE CANOLA': 'Canola', \n",
    "    'BARLEY':'Barley',\n",
    "    'CANARYSEED': 'Canary Seed', \n",
    "    'DURUM WHEAT': 'Durum Wheat', \n",
    "     'LENTILS': 'Lentils', \n",
    "     'OATS': 'Oats',\n",
    "    'RED SPRING WHEAT': 'Spring Wheat', \n",
    "    'WHITE PEA BEANS': 'Peas'}) \\\n",
    "        .drop(columns=['ALFALFA', 'FABABEANS', 'FABABEANS', 'POLISH CANOLA'] ) # Some crops don't exist in the df_sk data frame and that's why were removed of df_mb."
   ]
  },
  {
   "cell_type": "code",
   "execution_count": null,
   "id": "fa54f454",
   "metadata": {},
   "outputs": [],
   "source": [
    "# Some crops don't exist in the df_mb data frame and that's why were removed of df_sk.\n",
    "df_sk_clean=df_sk.rename(columns={'Durum': 'Durum Wheat'}).drop(columns=['Winter Wheat', 'Mustard', 'Sunflowers', 'Fall Rye', 'Spring Rye', 'Tame Hay','Flax', 'Chickpeas' ] )"
   ]
  },
  {
   "cell_type": "code",
   "execution_count": null,
   "id": "3094a9dd",
   "metadata": {},
   "outputs": [],
   "source": [
    "df_sk_clean"
   ]
  },
  {
   "cell_type": "code",
   "execution_count": null,
   "id": "1ac1869a",
   "metadata": {},
   "outputs": [],
   "source": [
    "df_mb_clean"
   ]
  },
  {
   "cell_type": "code",
   "execution_count": null,
   "id": "caa05978",
   "metadata": {},
   "outputs": [],
   "source": [
    "# Crop conversion in MB tonnes to bushel\n",
    "df_mb_clean['Canola']=df_mb_clean['Canola'] * 44.092\n",
    "df_mb_clean['Barley']=df_mb_clean['Barley'] * 45.93\n",
    "df_mb_clean['Canary Seed']=df_mb_clean['Canary Seed'] * 44.092\n",
    "df_mb_clean['Durum Wheat']=df_mb_clean['Durum Wheat'] * 36.74\n",
    "df_mb_clean['Lentils']=df_mb_clean['Lentils'] * 36.74\n",
    "df_mb_clean['Oats']=df_mb_clean['Oats'] * 64.842\n",
    "df_mb_clean['Spring Wheat']=df_mb_clean['Spring Wheat'] * 36.74\n",
    "df_mb_clean['Peas']=df_mb_clean['Peas'] *  36.74"
   ]
  },
  {
   "cell_type": "code",
   "execution_count": null,
   "id": "59aaccab",
   "metadata": {},
   "outputs": [],
   "source": [
    "# Crop Conversion in SK - pounds to bushels\n",
    "df_sk_clean['Lentils']=df_sk_clean['Lentils'] / 60\n",
    "df_sk_clean['Canary Seed']=df_sk_clean['Canary Seed'] / 50"
   ]
  },
  {
   "cell_type": "code",
   "execution_count": null,
   "id": "3f0573e0",
   "metadata": {},
   "outputs": [],
   "source": [
    "# Creating province column\n",
    "df_mb_clean['Province'] = 'MB'\n",
    "df_sk_clean['Province'] = 'SK'"
   ]
  },
  {
   "cell_type": "code",
   "execution_count": null,
   "id": "56dbf37b",
   "metadata": {},
   "outputs": [],
   "source": [
    "df = pd.concat([df_mb_clean, df_sk_clean])"
   ]
  },
  {
   "cell_type": "code",
   "execution_count": null,
   "id": "5e3ebff4",
   "metadata": {},
   "outputs": [],
   "source": [
    "df = df[df[\"Year\"]>=2003] ## I chose to work with data from 2003 onwards."
   ]
  },
  {
   "cell_type": "code",
   "execution_count": null,
   "id": "9e8a8cd1",
   "metadata": {},
   "outputs": [],
   "source": [
    "canola_null_count = df['Oats'].isnull().sum()\n",
    "print(\"Number of null values in the 'Oats' column:\", canola_null_count)\n",
    "\n",
    "canola_total_count = len(df['Canola'])\n",
    "print(\"Total number of records in the 'Canola' column:\", canola_total_count)"
   ]
  },
  {
   "cell_type": "markdown",
   "id": "f6218def",
   "metadata": {},
   "source": [
    "## EDA (Exploratory Data Analysis)"
   ]
  },
  {
   "cell_type": "markdown",
   "id": "62fc2041",
   "metadata": {},
   "source": [
    "### Missing Values"
   ]
  },
  {
   "cell_type": "code",
   "execution_count": null,
   "id": "32207c52",
   "metadata": {},
   "outputs": [],
   "source": [
    "# Get the counts of missing values for each column\n",
    "missing_values_counts = df.loc[df['Year'] >= 2003].isna().sum().sort_values()\n",
    "\n",
    "# Calculate the bar colors based on their heights, using shades of green\n",
    "shades_of_green = np.linspace(0.2, 1, len(missing_values_counts))\n",
    "bar_colors = plt.cm.Greens(shades_of_green)\n",
    "\n",
    "# Plot the bar chart\n",
    "ax = missing_values_counts.plot(kind='bar', color=bar_colors)\n",
    "plt.title('Missing Values - 2003 to 2022')\n",
    "plt.xlabel('Crops')\n",
    "plt.ylabel('# of Missing values')\n",
    "\n",
    "# Rotate x-axis labels by 45 degrees\n",
    "plt.xticks(rotation=45)\n",
    "\n",
    "# Add horizontal lines\n",
    "plt.axhline(len(df) / 2, linestyle='--', color='red')\n",
    "plt.axhline(len(df) / 4, linestyle='--', color='red')\n",
    "plt.axhline(len(df) / 10, linestyle='--', color='red')\n",
    "\n",
    "plt.show()\n"
   ]
  },
  {
   "cell_type": "markdown",
   "id": "1f88a78b",
   "metadata": {},
   "source": [
    "## Outliers"
   ]
  },
  {
   "cell_type": "code",
   "execution_count": null,
   "id": "3a59a79d",
   "metadata": {},
   "outputs": [],
   "source": [
    "df = df[df[\"Year\"]>=2003]\n",
    "# Remove rows where \"Oats\" column is null\n",
    "df = df.dropna(subset=['Oats'])"
   ]
  },
  {
   "cell_type": "code",
   "execution_count": null,
   "id": "f80c0c92",
   "metadata": {},
   "outputs": [],
   "source": [
    "crop_columns=['Canola', 'Barley', 'Canary Seed', 'Durum Wheat',\n",
    "       'Lentils', 'Oats', 'Spring Wheat', 'Peas']"
   ]
  },
  {
   "cell_type": "markdown",
   "id": "a552ec6b",
   "metadata": {},
   "source": [
    "## Histograms"
   ]
  },
  {
   "cell_type": "code",
   "execution_count": null,
   "id": "96a7d6b7",
   "metadata": {},
   "outputs": [],
   "source": [
    "sb.histplot(df[\"Oats\"], bins=300, color=sb.color_palette(\"YlOrBr\")[0])\n",
    "plt.show()"
   ]
  },
  {
   "cell_type": "code",
   "execution_count": null,
   "id": "0bd1c67f",
   "metadata": {},
   "outputs": [],
   "source": [
    "sb.heatmap(df[crop_columns].corr(), annot=True)"
   ]
  },
  {
   "cell_type": "markdown",
   "id": "9cf95891",
   "metadata": {},
   "source": [
    "## Boxplots"
   ]
  },
  {
   "cell_type": "code",
   "execution_count": null,
   "id": "04eeeb97",
   "metadata": {},
   "outputs": [],
   "source": [
    "df[crop_columns].boxplot()"
   ]
  },
  {
   "cell_type": "code",
   "execution_count": null,
   "id": "b7b01543",
   "metadata": {},
   "outputs": [],
   "source": [
    "# Remove outliers: Delete lines to 'Oats'>70\n",
    "df = df.loc[df['Oats']<155]\n",
    "df.info() "
   ]
  },
  {
   "cell_type": "code",
   "execution_count": null,
   "id": "843ddae7",
   "metadata": {},
   "outputs": [],
   "source": [
    "# Peorson Corr (-1 to 1), -1 negative corr, o no corr, 1 positive corr\n",
    "# Using Seaborn\n",
    "sb.heatmap(df[crop_columns].corr(),annot=True, cmap='Greens')  ## deu errado apenas pq no codigo acima coloque df apenas com a coluna de Oats, proxima vez colocar o codigo acima abaixo desse"
   ]
  },
  {
   "cell_type": "markdown",
   "id": "3abc3fd7",
   "metadata": {},
   "source": [
    "## GIS Analysis"
   ]
  },
  {
   "cell_type": "code",
   "execution_count": null,
   "id": "41688bb0",
   "metadata": {},
   "outputs": [],
   "source": [
    "# CRS --> Cordinate Reference Systems\n",
    "gdf_mb['geometry'].crs"
   ]
  },
  {
   "cell_type": "code",
   "execution_count": null,
   "id": "f17b2204",
   "metadata": {},
   "outputs": [],
   "source": [
    "gdf_mb"
   ]
  },
  {
   "cell_type": "code",
   "execution_count": null,
   "id": "a2f936cd",
   "metadata": {},
   "outputs": [],
   "source": [
    "# Standardazing CRS formats\n",
    "\n",
    "# Define the target CRS (EPSG:4326 - WGS 84)\n",
    "target_crs = 'EPSG:4326'\n",
    "\n",
    "# Transform the GeoDataFrame to the target CRS\n",
    "gdf_mb = gdf_mb.to_crs(target_crs)\n",
    "gdf_sk = gdf_sk.to_crs(target_crs)\n",
    "\n",
    "# Now, gdf_transformed contains the GeoDataFrame in the new CRS (EPSG:4326)\n",
    "\n"
   ]
  },
  {
   "cell_type": "code",
   "execution_count": null,
   "id": "49cfa49f",
   "metadata": {},
   "outputs": [],
   "source": [
    "gdf_sk.explore()"
   ]
  },
  {
   "cell_type": "code",
   "execution_count": null,
   "id": "5f78f1df",
   "metadata": {},
   "outputs": [],
   "source": [
    "gdf_mb.explore()"
   ]
  },
  {
   "cell_type": "code",
   "execution_count": null,
   "id": "088f709d",
   "metadata": {},
   "outputs": [],
   "source": [
    "# Renaming column name\n",
    "gdf_sk['RMNO']=gdf_sk['RMNO'].astype(int)   # Rural Municipality Number\n",
    "gdf_sk.explore()"
   ]
  },
  {
   "cell_type": "code",
   "execution_count": null,
   "id": "6f00a260",
   "metadata": {},
   "outputs": [],
   "source": [
    "gdf=pd.concat([gdf_sk[['RMNO','geometry']].rename(columns={'RMNO':'RM'}),gdf_mb[['MUNI_NAME', 'geometry']].rename(columns={'MUNI_NAME':'RM'})])\n",
    "gdf"
   ]
  },
  {
   "cell_type": "code",
   "execution_count": null,
   "id": "a3bcfa90",
   "metadata": {},
   "outputs": [],
   "source": [
    "set(gdf[\"RM\"].unique()) - set(df_sk_clean[\"RM\"].unique())   #this command calculates the set difference of the unique 'RM' values between gdf and df_sk_clean, providing the 'RM' values that are unique to gdf."
   ]
  },
  {
   "cell_type": "code",
   "execution_count": null,
   "id": "f5f9a91a",
   "metadata": {},
   "outputs": [],
   "source": [
    "gdf_mb['MUNI_NAME']=gdf_mb['MUNI_NAME'].str.replace('RM OF ','')\n",
    "\n",
    "gdf.loc[gdf[\"RM\"] == \"ST. FRANCOIS XAVIER\", \"RM\"] = \"ST. FRANCIS XAVIER\"\n",
    "gdf.loc[gdf[\"RM\"] == \"DE SALABERRY\", \"RM\"] = \"DESALABERRY\"\n",
    "df.loc[df[\"RM\"] == \"EAST ST PAUL\", \"RM\"] = \"EAST ST. PAUL\"\n",
    "df.loc[df[\"RM\"] == \"KILLARNEY-TURTLE MTN\" \"RM\"] = \"KILLARNEY-TURTLE MOUNTAIN\"\n",
    "gdf.loc[gdf[\"RM\"] == \"ROBLIN\", \"RM\"] = \"HILLSBURG-ROBLIN-SHELL RIVER\""
   ]
  },
  {
   "cell_type": "code",
   "execution_count": null,
   "id": "62ce2944",
   "metadata": {},
   "outputs": [],
   "source": [
    "gdf=pd.concat([gdf_sk[['RMNO','geometry']].rename(columns={'RMNO':'RM'}),gdf_mb[['MUNI_NAME', 'geometry']].rename(columns={'MUNI_NAME':'RM'})])\n",
    "\n",
    "gdf"
   ]
  },
  {
   "cell_type": "code",
   "execution_count": null,
   "id": "0f4005d0",
   "metadata": {},
   "outputs": [],
   "source": [
    "gdf.explore()"
   ]
  },
  {
   "cell_type": "code",
   "execution_count": null,
   "id": "3b8444a4",
   "metadata": {},
   "outputs": [],
   "source": [
    "gdf['RM']=gdf['RM'].astype('string')\n",
    "df['RM']=df['RM'].astype('string')"
   ]
  },
  {
   "cell_type": "code",
   "execution_count": null,
   "id": "a9089672",
   "metadata": {},
   "outputs": [],
   "source": [
    "gdf = gdf.reset_index()"
   ]
  },
  {
   "cell_type": "code",
   "execution_count": null,
   "id": "74e6b9bd",
   "metadata": {},
   "outputs": [],
   "source": [
    "df"
   ]
  },
  {
   "cell_type": "code",
   "execution_count": null,
   "id": "7bf44b80",
   "metadata": {},
   "outputs": [],
   "source": [
    "# SQL inner join\n",
    "df_gdf=pd.merge(gdf, df, on='RM', how='inner')  ##### tem algo errado nesse join porque o resultado tem so province SK"
   ]
  },
  {
   "cell_type": "code",
   "execution_count": null,
   "id": "b5559287",
   "metadata": {},
   "outputs": [],
   "source": [
    "df_gdf"
   ]
  },
  {
   "cell_type": "code",
   "execution_count": null,
   "id": "319e9edc",
   "metadata": {},
   "outputs": [],
   "source": [
    "print('RM Before merging', gdf['RM'].nunique())\n",
    "print('RM After merging',df['RM'].nunique())\n",
    "print('RM After merging',df_gdf['RM'].nunique())"
   ]
  },
  {
   "cell_type": "code",
   "execution_count": null,
   "id": "a2b9a4e9",
   "metadata": {},
   "outputs": [],
   "source": [
    "ds=df_gdf.copy()"
   ]
  },
  {
   "cell_type": "code",
   "execution_count": null,
   "id": "c0c2a642",
   "metadata": {},
   "outputs": [],
   "source": [
    "stats = ds.groupby ([\"RM\"]).agg({\"Oats\":[\"mean\",\"std\",\"min\",\"max\"]})\n",
    "stats.to_csv ('/Users/robertotabosa/Desktop/Stream3/stats.csv')\n",
    "stats = stats.rename(columns={\"O___a___t___s_______m___a___x\": \"Oats_max\"})\n",
    "#ds.loc[ds[\"Province\"] == \"MB\"]    # SK or MB\n",
    "#stdSoil = ds.groupby('Province')['Province'].count()\n",
    "print (stats)\n"
   ]
  },
  {
   "cell_type": "code",
   "execution_count": null,
   "id": "1f284ca2",
   "metadata": {},
   "outputs": [],
   "source": [
    "# How replace Nan for 0\n",
    "\n",
    "ds['Oats'] = ds['Oats'].fillna(0)   #-> nao senti mais necessidade de utilizar esse codigo\n"
   ]
  },
  {
   "cell_type": "markdown",
   "id": "7b29b844",
   "metadata": {},
   "source": [
    "## GIS Visualization"
   ]
  },
  {
   "cell_type": "markdown",
   "id": "4f5e976c",
   "metadata": {},
   "source": [
    "### Explore function"
   ]
  },
  {
   "cell_type": "code",
   "execution_count": null,
   "id": "698e8b3a",
   "metadata": {},
   "outputs": [],
   "source": [
    "ds"
   ]
  },
  {
   "cell_type": "code",
   "execution_count": null,
   "id": "b0466b5b",
   "metadata": {},
   "outputs": [],
   "source": [
    "ax = ds.loc[ds['Year'] >= 2003].plot(column='Oats', legend=True, cmap='Greens', figsize=(20, 20),scheme=\"quantiles\")\n",
    "\n",
    "# Add web map tiles\n",
    "ctx.add_basemap(ax, source=ctx.providers.Stamen.TonerLite)\n",
    "\n",
    "plt.show()\n",
    "title_html = '''\n",
    "                 <h3 align=\"center\" style=\"font-size:30px; color:Green;\"><b> Oats Yield 2003 - 2022 </b></h3>\n",
    "             '''\n",
    "m.get_root().html.add_child(folium.Element(title_html))\n",
    "m.save('/Users/robertotabosa/Desktop/Stream3/Oats.html')"
   ]
  },
  {
   "cell_type": "code",
   "execution_count": null,
   "id": "9cb3b0b0",
   "metadata": {},
   "outputs": [],
   "source": [
    "ds.plot(column='Oats', \n",
    "                                 legend=True,  \n",
    "                                 cmap='Greens')"
   ]
  },
  {
   "cell_type": "markdown",
   "id": "ae887dbf",
   "metadata": {},
   "source": [
    "## Tableau"
   ]
  },
  {
   "cell_type": "markdown",
   "id": "f3650121",
   "metadata": {},
   "source": [
    "## Aggregations"
   ]
  },
  {
   "cell_type": "code",
   "execution_count": null,
   "id": "26e69a91",
   "metadata": {},
   "outputs": [],
   "source": [
    "# entendendo o resultado dos graficos abaixo\n",
    "t = df[df[\"Year\"]>=2003]\n",
    "\n",
    "df.to_csv(\"/Users/robertotabosa/Desktop/Stream3/df.csv\")"
   ]
  },
  {
   "cell_type": "code",
   "execution_count": null,
   "id": "eec860b5",
   "metadata": {},
   "outputs": [],
   "source": [
    "df_03_22=df.loc[df['Year']>=2003].sort_values(['RM', 'Year'])"
   ]
  },
  {
   "cell_type": "code",
   "execution_count": null,
   "id": "fc8473cb",
   "metadata": {},
   "outputs": [],
   "source": [
    "df_03_22.to_csv(\"/Users/robertotabosa/Desktop/Stream3/df_03_22.csv\")"
   ]
  },
  {
   "cell_type": "code",
   "execution_count": null,
   "id": "c50c3c6e",
   "metadata": {},
   "outputs": [],
   "source": [
    "import matplotlib.pyplot as plt\n",
    "\n",
    "fig, axes = plt.subplots(5, 4, figsize=(20, 25), sharey=True)\n",
    "years_to_plot = df_03_22['Year'].unique()\n",
    "plt.rc('xtick', labelsize=8)    # fontsize of the tick labels\n",
    "plt.rc('ytick', labelsize=8)\n",
    "plt.rc('legend', fontsize=7, frameon=False)\n",
    "\n",
    "for i, year in enumerate(years_to_plot):\n",
    "    ax = axes[i//4, i%4]\n",
    "    merged_df = pd.merge(gdf, df_03_22.loc[df_03_22['Year'] == year], on='RM')\n",
    "    merged_df.plot(column='Oats', cmap='RdYlGn', legend=True, ax=ax, scheme=\"quantiles\")\n",
    "    ax.set_title(f'Oats Yield in {year}', color='Blue', size=12)\n",
    "\n",
    "\n",
    "plt.tight_layout()\n",
    "plt.show()"
   ]
  },
  {
   "cell_type": "code",
   "execution_count": null,
   "id": "325a0a69",
   "metadata": {},
   "outputs": [],
   "source": [
    "df_agg = stats\n",
    "df_agg= df_agg.dropna() # Dropped all whith null"
   ]
  },
  {
   "cell_type": "code",
   "execution_count": null,
   "id": "18ca976c",
   "metadata": {},
   "outputs": [],
   "source": [
    "df_agg.info()"
   ]
  },
  {
   "cell_type": "markdown",
   "id": "34e5aa16",
   "metadata": {},
   "source": [
    "## K-Means Clustering"
   ]
  },
  {
   "cell_type": "code",
   "execution_count": null,
   "id": "944d67be",
   "metadata": {},
   "outputs": [],
   "source": [
    "from sklearn.cluster import KMeans \n",
    "\n",
    "# Rename columns with a single level index\n",
    "df_agg.columns = [f\"{col[0]}_{col[1]}\" if col[1] else col[0] for col in df_agg.columns]\n",
    "\n",
    "# Select the columns with the correct MultiIndex format\n",
    "df_agg_can = df_agg[['Oats_mean', 'Oats_std']]\n",
    "\n",
    "# Let's define our features\n",
    "X = df_agg_can.copy()\n",
    "\n",
    "from sklearn.metrics import silhouette_score\n",
    "n_clusters = [2, 3, 4, 5, 6, 7, 8, 9, 10, 11, 12, 13, 14, 15]  # number of clusters\n",
    "clusters_inertia = []  # inertia of clusters\n",
    "s_scores = []  # silhouette scores\n",
    "\n",
    "for n in n_clusters:\n",
    "    KM = KMeans(n_clusters=n, init='k-means++', n_init=10).fit(X)\n",
    "    clusters_inertia.append(KM.inertia_)  # data for the elbow method\n",
    "    silhouette_avg = silhouette_score(X, KM.labels_)\n",
    "    s_scores.append(silhouette_avg)  # data for the silhouette score method\n",
    "\n"
   ]
  },
  {
   "cell_type": "markdown",
   "id": "34700833",
   "metadata": {},
   "source": [
    "## Elbow Metod"
   ]
  },
  {
   "cell_type": "code",
   "execution_count": null,
   "id": "a068355f",
   "metadata": {},
   "outputs": [],
   "source": [
    "fig, ax = plt.subplots(figsize=(12,5))\n",
    "ax.plot(n_clusters, clusters_inertia, 'o-', color='blue', label='Elbow Method')\n",
    "ax.set_title(\"Elbow Method\")\n",
    "ax.set_xlabel(\"Number of Clusters\")\n",
    "ax.set_ylabel(\"Clusters Inertia\")\n",
    "ax.axvline(4, ls=\"--\", c=\"red\")\n",
    "ax.axvline(5, ls=\"--\", c=\"red\")\n",
    "ax.axvline(6, ls=\"--\", c=\"red\")\n",
    "plt.grid()\n",
    "plt.legend()\n",
    "plt.show()"
   ]
  },
  {
   "cell_type": "markdown",
   "id": "526ef745",
   "metadata": {},
   "source": [
    "## Silhouette Score"
   ]
  },
  {
   "cell_type": "code",
   "execution_count": null,
   "id": "eea406bc",
   "metadata": {},
   "outputs": [],
   "source": [
    "fig, ax = plt.subplots(figsize=(12,5))\n",
    "ax.plot(n_clusters, s_scores, 's-', color='green', label='Silhouette Score Method')\n",
    "ax.set_title(\"Silhouette Score Method\")\n",
    "ax.set_xlabel(\"Number of Clusters\")\n",
    "ax.set_ylabel(\"Silhouette Score\")\n",
    "ax.axvline(6, ls=\"--\", c=\"red\")\n",
    "plt.grid()\n",
    "plt.legend()\n",
    "plt.show()"
   ]
  },
  {
   "cell_type": "code",
   "execution_count": null,
   "id": "dcc83162",
   "metadata": {},
   "outputs": [],
   "source": [
    "# ---- New code:\n",
    "\n",
    "from sklearn.cluster import KMeans\n",
    "\n",
    "kmeans = KMeans(n_clusters=4, init='k-means++', random_state=42, n_init=10)\n",
    "\n",
    "# Fit and predict the clusters\n",
    "df_agg_can['Clusters_4'] = kmeans.fit_predict(df_agg_can[['Oats_mean', 'Oats_std']])\n",
    "\n",
    "# Use .loc to avoid the warning\n",
    "df_agg_can.loc[:, 'Clusters_4'] = df_agg_can['Clusters_4']\n"
   ]
  },
  {
   "cell_type": "code",
   "execution_count": null,
   "id": "a21c1a0c",
   "metadata": {},
   "outputs": [],
   "source": [
    "from sklearn.cluster import KMeans\n",
    "\n",
    "kmeans = KMeans(n_clusters=6, init='k-means++', random_state=42, n_init=10)\n",
    "\n",
    "# Fit and predict the clusters\n",
    "df_agg_can['Clusters_6'] = kmeans.fit_predict(df_agg_can[['Oats_mean', 'Oats_std']])\n",
    "\n",
    "# Use .loc to avoid the warning\n",
    "df_agg_can.loc[:, 'Clusters_6'] = df_agg_can['Clusters_6']"
   ]
  },
  {
   "cell_type": "code",
   "execution_count": null,
   "id": "080cbdbc",
   "metadata": {},
   "outputs": [],
   "source": [
    "sb.scatterplot(data=df_agg_can, x='Oats_mean', y='Oats_std', hue='Clusters_4')\n",
    "plt.scatter(kmeans.cluster_centers_[:, 0], kmeans.cluster_centers_[:, 1], s = 100, c = 'blue', label = 'Centroids')\n",
    "plt.title('Oats Clustering Mean and Std | 2003-2022 | K-Means ', color='blue', size =14)\n",
    "plt.show()"
   ]
  },
  {
   "cell_type": "code",
   "execution_count": null,
   "id": "be72849e",
   "metadata": {},
   "outputs": [],
   "source": [
    "df_agg_can.to_csv('/Users/robertotabosa/Desktop/Stream3/sg_agg_can.csv')"
   ]
  },
  {
   "cell_type": "code",
   "execution_count": null,
   "id": "e0822dc1",
   "metadata": {},
   "outputs": [],
   "source": [
    "sb.scatterplot(data=df_agg_can, x='Oats_mean', y='Oats_std', hue='Clusters_6')\n",
    "plt.scatter(kmeans.cluster_centers_[:, 0], kmeans.cluster_centers_[:, 1], s = 100, c = 'blue', label = 'Centroids')\n",
    "plt.title('Oats Clustering Mean and Std | 2003-2022 | K-Means ', color='blue', size =14)\n",
    "plt.show()"
   ]
  },
  {
   "cell_type": "code",
   "execution_count": null,
   "id": "e388ea27",
   "metadata": {},
   "outputs": [],
   "source": [
    "pd.merge(\n",
    "    gdf,\n",
    "    df_agg_can,\n",
    "    on='RM'\n",
    ").explore(column='Clusters_6', legend='True', k=6, scheme='naturalbreaks', cmap='Oranges')"
   ]
  },
  {
   "cell_type": "code",
   "execution_count": null,
   "id": "f1077bae",
   "metadata": {},
   "outputs": [],
   "source": [
    "df_agg_can"
   ]
  },
  {
   "cell_type": "markdown",
   "id": "78727e5d",
   "metadata": {},
   "source": [
    "## Ranking clusters based on Mean"
   ]
  },
  {
   "cell_type": "code",
   "execution_count": null,
   "id": "c563b881",
   "metadata": {},
   "outputs": [],
   "source": [
    "df_agg_can.groupby('Clusters_6').mean()\\\n",
    "    .sort_values('Oats_mean')[['Oats_mean', 'Oats_std']]"
   ]
  },
  {
   "cell_type": "code",
   "execution_count": null,
   "id": "4efe5d89",
   "metadata": {},
   "outputs": [],
   "source": [
    "# Ranking based on the mean\n",
    "df_agg_can['Clusters_6_ranked']=df_agg_can['Clusters_6'].replace(to_replace={\n",
    "    0:1,\n",
    "    5:2,\n",
    "    2:3,\n",
    "    4:4,\n",
    "    1:5,\n",
    "    3:6\n",
    "})"
   ]
  },
  {
   "cell_type": "code",
   "execution_count": null,
   "id": "fc796d84",
   "metadata": {},
   "outputs": [],
   "source": [
    "pd.merge(\n",
    "    gdf,\n",
    "    df_agg_can,\n",
    "    on='RM'\n",
    ").explore(column='Clusters_6_ranked', legend='True', k=6, scheme='naturalbreaks', cmap='Oranges')"
   ]
  },
  {
   "cell_type": "code",
   "execution_count": null,
   "id": "143d5746",
   "metadata": {},
   "outputs": [],
   "source": []
  }
 ],
 "metadata": {
  "kernelspec": {
   "display_name": "Python 3 (ipykernel)",
   "language": "python",
   "name": "python3"
  },
  "language_info": {
   "codemirror_mode": {
    "name": "ipython",
    "version": 3
   },
   "file_extension": ".py",
   "mimetype": "text/x-python",
   "name": "python",
   "nbconvert_exporter": "python",
   "pygments_lexer": "ipython3",
   "version": "3.11.6"
  }
 },
 "nbformat": 4,
 "nbformat_minor": 5
}
